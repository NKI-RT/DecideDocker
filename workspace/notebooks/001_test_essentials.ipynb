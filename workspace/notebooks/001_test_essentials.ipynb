{
 "cells": [
  {
   "cell_type": "markdown",
   "metadata": {},
   "source": [
    "# Test essentials\n",
    "- XNAT\n",
    "- Torch &\n",
    "- GPU Support\n",
    "- PyRadiomics\n",
    "- Toatl Segmentator\n",
    "- PlatiPy"
   ]
  },
  {
   "cell_type": "markdown",
   "metadata": {},
   "source": [
    "## Modules that could raise conflicts"
   ]
  },
  {
   "cell_type": "code",
   "execution_count": null,
   "metadata": {},
   "outputs": [],
   "source": [
    "import xnat\n",
    "import numpy\n",
    "import pydicom\n",
    "import platipy\n",
    "import radiomics\n",
    "\n",
    "print(\"XNAT: \", xnat.__version__ )\n",
    "print(\"NumPy: \", numpy.__version__ )\n",
    "print(\"Pydicom: \", pydicom.__version__)\n",
    "print(\"PlatiPy: \", platipy.__version__ )\n",
    "print(\"PyRadiomics: \", radiomics.__version__ )\n",
    "\n",
    "# XNAT:  0.5.3\n",
    "# NumPy:  1.26.4\n",
    "# Pydicom:  3.0.1\n",
    "# PlatiPy:  0.7.2"
   ]
  },
  {
   "cell_type": "markdown",
   "metadata": {},
   "source": [
    "## PyTorch GPU"
   ]
  },
  {
   "cell_type": "code",
   "execution_count": null,
   "metadata": {
    "tags": []
   },
   "outputs": [],
   "source": [
    "import torch\n",
    "\n",
    "# Check GPU availability\n",
    "print(f\"CUDA available: {torch.cuda.is_available()}\")\n",
    "if torch.cuda.is_available():\n",
    "    print(f\"GPU: {torch.cuda.get_device_name(0)}\")\n",
    "    print(f\"CUDA version: {torch.version.cuda}\")\n",
    "    print(f\"GPU memory: {torch.cuda.get_device_properties(0).total_memory / 1024**3:.1f} GB\")"
   ]
  },
  {
   "cell_type": "markdown",
   "metadata": {},
   "source": [
    "# Test with a simple tensor operation to verify GPU"
   ]
  },
  {
   "cell_type": "code",
   "execution_count": null,
   "metadata": {},
   "outputs": [],
   "source": [
    "# Test with a simple tensor operation to verify GPU\n",
    "if torch.cuda.is_available():\n",
    "    # Create a tensor on GPU\n",
    "    x = torch.randn(1000, 1000).cuda()\n",
    "    y = torch.randn(1000, 1000).cuda()\n",
    "    \n",
    "    # Perform operation on GPU\n",
    "    result = torch.mm(x, y)\n",
    "    \n",
    "    print(\"GPU tensor operation successful!\")\n",
    "    print(f\"Result shape: {result.shape}\")\n",
    "    print(f\"Result device: {result.device}\")\n",
    "else:\n",
    "    print(\"GPU not available for tensor operations\")"
   ]
  },
  {
   "cell_type": "markdown",
   "metadata": {},
   "source": [
    "## XNAT"
   ]
  },
  {
   "cell_type": "code",
   "execution_count": null,
   "metadata": {},
   "outputs": [],
   "source": [
    "import xnat\n",
    "\n",
    "# Replace with your actual server URL and credentials\n",
    "with xnat.connect('your url', user='your username', password='your password') as session:\n",
    "    # Test: list all projects\n",
    "    projects = session.projects.keys()\n",
    "    print(\"Available projects:\")\n",
    "    for project_id in projects:\n",
    "        print(project_id)\n",
    "    project = session.projects[project_id]\n",
    "    print(\"Subjects in project:\", len(project.subjects.keys()))\n"
   ]
  },
  {
   "cell_type": "markdown",
   "metadata": {},
   "source": [
    "## TotalSegmentator (python api)"
   ]
  },
  {
   "cell_type": "code",
   "execution_count": null,
   "metadata": {},
   "outputs": [],
   "source": [
    "from totalsegmentator.python_api import totalsegmentator\n",
    "from pathlib import Path\n",
    "from decide.paths import TEST_DATA_DIR\n",
    "\n",
    "#It creates the output dir\n",
    "totalsegmentator(\n",
    "    input= TEST_DATA_DIR/\"LUNG1-001\"/\"NIfTI\"/\"LUNG1-001.nii.gz\",\n",
    "    output=\"../data/ts_segmentations\",\n",
    "    task=\"total\",\n",
    "    fast=False)"
   ]
  },
  {
   "cell_type": "markdown",
   "metadata": {},
   "source": [
    "## PlatiPy hybrid segmentation"
   ]
  },
  {
   "cell_type": "code",
   "execution_count": null,
   "metadata": {},
   "outputs": [],
   "source": [
    "import SimpleITK as sitk\n",
    "from pathlib import Path\n",
    "from platipy.imaging.projects.cardiac.run import run_hybrid_segmentation\n",
    "\n",
    "def run_platipy(input_image:str|Path, output_dir:str|Path)->None:\n",
    "    \"\"\"Platipy Hybrid segmentation Implementation to save as nifti image.\n",
    "\n",
    "    :param str | Path input_image: imput nifti image (or any 3D image readble by sitk).\n",
    "    :param str | Path output_dir: output nifti file.\n",
    "    \"\"\"\n",
    "    input_image_ = sitk.ReadImage(input_image)\n",
    "    prediction_dict, _ = run_hybrid_segmentation(input_image_)\n",
    "    output_ = Path(output_dir)\n",
    "    output_.mkdir(parents=True, exist_ok=True)\n",
    "    for struct_name, struct_image in prediction_dict.items():\n",
    "        sitk.WriteImage(struct_image, str(output_.joinpath(f\"{struct_name}.nii.gz\")))"
   ]
  },
  {
   "cell_type": "code",
   "execution_count": null,
   "metadata": {},
   "outputs": [],
   "source": [
    "from decide.paths import TEST_DATA_DIR\n",
    "run_platipy(TEST_DATA_DIR/\"LUNG1-001\"/\"NIfTI\"/\"LUNG1-001.nii.gz\", \"../data/platipy_segmentations\")"
   ]
  },
  {
   "cell_type": "markdown",
   "metadata": {},
   "source": [
    "## Total Segmentator with License"
   ]
  },
  {
   "cell_type": "code",
   "execution_count": null,
   "metadata": {},
   "outputs": [],
   "source": [
    "# import subprocess\n",
    "# from totalsegmentator.python_api import totalsegmentator\n",
    "# subprocess.run(f\"totalseg_set_license -l \", shell=True) #will be done later\n",
    "\n",
    "# totalsegmentator(\n",
    "#     input= TEST_DATA_DIR/\"LUNG1-001\"/\"NIfTI\"/\"LUNG1-001.nii.gz\",\n",
    "#     output=\"../data/ts_segmentations_heart\",\n",
    "#     task=\"heartchambers_highres\",\n",
    "#     fast=False)"
   ]
  }
 ],
 "metadata": {
  "kernelspec": {
   "display_name": "Python 3",
   "language": "python",
   "name": "python3"
  },
  "language_info": {
   "codemirror_mode": {
    "name": "ipython",
    "version": 3
   },
   "file_extension": ".py",
   "mimetype": "text/x-python",
   "name": "python",
   "nbconvert_exporter": "python",
   "pygments_lexer": "ipython3",
   "version": "3.10.6"
  }
 },
 "nbformat": 4,
 "nbformat_minor": 4
}
